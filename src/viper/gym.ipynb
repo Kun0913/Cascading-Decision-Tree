{
 "cells": [
  {
   "cell_type": "code",
   "execution_count": 1,
   "metadata": {},
   "outputs": [],
   "source": [
    "%load_ext autoreload\n",
    "%autoreload 2"
   ]
  },
  {
   "cell_type": "markdown",
   "metadata": {},
   "source": [
    "# Config"
   ]
  },
  {
   "cell_type": "code",
   "execution_count": 2,
   "metadata": {},
   "outputs": [
    {
     "name": "stdout",
     "output_type": "stream",
     "text": [
      "observation: Box(-inf, inf, (8,), float32), action: Discrete(4)\n",
      "n_threads 1\n",
      "n_gpus 1\n"
     ]
    },
    {
     "name": "stderr",
     "output_type": "stream",
     "text": [
      "2021-08-17 16:27:11,458\tINFO services.py:1272 -- View the Ray dashboard at \u001b[1m\u001b[32mhttp://127.0.0.1:8270\u001b[39m\u001b[22m\n",
      "2021-08-17 16:27:11,464\tWARNING services.py:1730 -- WARNING: The object store is using /tmp instead of /dev/shm because /dev/shm has only 58970112 bytes available. This will harm performance! You may be able to free up space by deleting files in /dev/shm. If you are inside a Docker container, you can increase /dev/shm size by passing '--shm-size=10.24gb' to 'docker run' (or add it to the run_options list in a Ray cluster config). Make sure to set this to more than 30% of available RAM.\n"
     ]
    }
   ],
   "source": [
    "import os\n",
    "import numpy as np\n",
    "import time\n",
    "import ray\n",
    "from algorithms.utils import Config, LogClient, LogServer\n",
    "from algorithms.algorithm import RL\n",
    "\n",
    "os.environ['RAY_OBJECT_STORE_ALLOW_SLOW_STORAGE']='1'\n",
    "\n",
    "    \n",
    "\"\"\"\n",
    "This section contains run args, separated from args for the RL algorithm and agents\n",
    "\"\"\"\n",
    "args = Config()\n",
    "#### computation\n",
    "os.environ['CUDA_VISIBLE_DEVICES']='1'\n",
    "args.n_thread = 1\n",
    "args.parallel = False\n",
    "args.device = 'cpu'\n",
    "args.n_cpu = 1 # per agent, used only if parallel = True\n",
    "args.n_gpu = 0\n",
    "\n",
    "#### general\n",
    "args.debug = False\n",
    "args.test = False # if no training, only test\n",
    "args.profiling = False\n",
    "backend = 'tensorboard'\n",
    "\n",
    "#### algorithm and environment\n",
    "from algorithms.config.SAC import getArgs\n",
    "\n",
    "import gym\n",
    "from algorithms.envs.Wrapper import GymWrapper\n",
    "env_name = 'LunarLander-v2'\n",
    "\n",
    "args.name='jupyter-visualization'\n",
    "\n",
    "#### misc\n",
    "args.save_period=900 # in seconds\n",
    "args.log_period=int(20)\n",
    "args.seed = None\n",
    "args.test_interval = int(3e4)\n",
    "args.n_test = 10\n",
    "\n",
    "def env_fn():\n",
    "    return GymWrapper(env_name, 0, 1)\n",
    "\n",
    "agent_args = getArgs(8, 4)\n",
    "\n",
    "algo_args = Config()\n",
    "algo_args.replay_size=int(1e6)\n",
    "algo_args.max_ep_len=1000\n",
    "algo_args.n_step=int(1e8)\n",
    "#### checkpoint\n",
    "algo_args.init_checkpoint = 'checkpoints/SAC-Lunar_LunarLander-v2_SAC_16686/21538671_259.63662453068207.pt'\n",
    "algo_args.start_step = 0\n",
    "\n",
    "agent_args.gamma=0.99\n",
    "\n",
    "##########################\n",
    "\n",
    "env = env_fn()\n",
    "print(f\"observation: {env.env.observation_space}, action: {env.env.action_space}\")\n",
    "del env\n",
    "algo_args.env_fn = env_fn\n",
    "args.env_fn = env_fn\n",
    "\n",
    "algo_args.agent_args = agent_args\n",
    "p_args, q_args, pi_args = agent_args.p_args, agent_args.q_args, agent_args.pi_args\n",
    "if args.debug:\n",
    "    pi_args.update_interval = 1\n",
    "    q_args.update_interval = 1\n",
    "    algo_args.batch_size = 4\n",
    "    algo_args.max_ep_len=2\n",
    "    algo_args.replay_size=1\n",
    "    if not p_args is None:\n",
    "        p_args.model_buffer_size = 4\n",
    "    algo_args.n_warmup=1\n",
    "    algo_args.n_test=1\n",
    "if args.test:\n",
    "    algo_args.n_warmup = 0\n",
    "    algo_args.n_test = 10\n",
    "    algo_args.n_step = 1\n",
    "if args.profiling:\n",
    "    algo_args.batch_size=128\n",
    "    if algo_args.agent_args.p_args is None:\n",
    "        algo_args.n_step = 50\n",
    "    else:\n",
    "        algo_args.n_step = algo_args.batch_size + 10\n",
    "        algo_args.replay_size = 1000\n",
    "        algo_args.n_warmup = algo_args.batch_size\n",
    "    algo_args.n_test = 1\n",
    "    algo_args.max_ep_len = 20\n",
    "if args.seed is None:\n",
    "    args.seed = int(time.time()*1000)%65536\n",
    "\n",
    "agent_args.parallel = args.parallel\n",
    "args.name = f'{args.name}_{env_name}_{agent_args.agent.__name__}_{args.seed}'\n",
    "\n",
    "\n",
    "if not p_args is None:\n",
    "    print(f\"rollout reuse:{(p_args.refresh_interval/q_args.update_interval*algo_args.batch_size)/p_args.model_buffer_size}\")\n",
    "# each generated data will be used so many times\n",
    "\n",
    "import torch\n",
    "torch.set_num_threads(args.n_thread)\n",
    "print(f\"n_threads {torch.get_num_threads()}\")\n",
    "print(f\"n_gpus {torch.cuda.device_count()}\")\n",
    "\n",
    "ray.init(ignore_reinit_error = True, num_gpus=len(os.environ['CUDA_VISIBLE_DEVICES'].split(',')))\n",
    "backend = ''\n",
    "logger = LogServer.remote({'run_args':args, 'algo_args':algo_args}, backend = backend)\n",
    "logger = LogClient(logger)"
   ]
  },
  {
   "cell_type": "markdown",
   "metadata": {},
   "source": [
    "# Run"
   ]
  },
  {
   "cell_type": "code",
   "execution_count": 11,
   "metadata": {},
   "outputs": [
    {
     "name": "stdout",
     "output_type": "stream",
     "text": [
      "loaded checkpoints/SAC-Lunar_LunarLander-v2_SAC_16686/21538671_259.63662453068207.pt\n"
     ]
    }
   ],
   "source": [
    "rl = RL(logger = logger, run_args=args, **algo_args._toDict())\n",
    "agent = rl.agent"
   ]
  },
  {
   "cell_type": "code",
   "execution_count": 16,
   "metadata": {},
   "outputs": [
    {
     "name": "stderr",
     "output_type": "stream",
     "text": [
      "100%|████████████████████████████████████████████████████████████████| 10/10 [00:03<00:00,  2.87it/s]"
     ]
    },
    {
     "name": "stdout",
     "output_type": "stream",
     "text": [
      "jupyter-visualization_LunarLander-v2_SAC_8696\n",
      "[269.40733965 257.99874458 271.34513462 254.21914198 275.60869609\n",
      " 287.46198793 246.10683478 230.09543459  13.50881856 267.62237039]\n",
      "10 episodes average accumulated reward: 237.33745031748003\n",
      "scaled reward 237.33745031748003\n"
     ]
    },
    {
     "name": "stderr",
     "output_type": "stream",
     "text": [
      "\n"
     ]
    },
    {
     "data": {
      "text/plain": [
       "237.33745031748003"
      ]
     },
     "execution_count": 16,
     "metadata": {},
     "output_type": "execute_result"
    }
   ],
   "source": [
    "rl.test()"
   ]
  },
  {
   "cell_type": "markdown",
   "metadata": {},
   "source": [
    "# Virtual Desktop"
   ]
  },
  {
   "cell_type": "code",
   "execution_count": 17,
   "metadata": {},
   "outputs": [],
   "source": [
    "import matplotlib.pyplot as plt\n",
    "from numpy import random\n",
    "from pyvirtualdisplay import Display\n",
    "display = Display(visible=0, size=(1400, 900))\n",
    "display.start()\n",
    "\n",
    "is_ipython = 'inline' in plt.get_backend()\n",
    "if is_ipython:\n",
    "    from IPython import display\n",
    "\n",
    "plt.ion()"
   ]
  },
  {
   "cell_type": "markdown",
   "metadata": {},
   "source": [
    "# Visualization"
   ]
  },
  {
   "cell_type": "code",
   "execution_count": 22,
   "metadata": {},
   "outputs": [
    {
     "name": "stdout",
     "output_type": "stream",
     "text": [
      "282.49943385798315\n"
     ]
    },
    {
     "data": {
      "image/png": "[encoded data removed]",
      "text/plain": [
       "<Figure size 432x288 with 1 Axes>"
      ]
     },
     "metadata": {
      "needs_background": "light"
     },
     "output_type": "display_data"
    }
   ],
   "source": [
    "# Load the gym environment\n",
    "\n",
    "import gym\n",
    "import matplotlib.pyplot as plt\n",
    "%matplotlib inline\n",
    "\n",
    "env = gym.make('LunarLander-v2')\n",
    "env.seed(23)\n",
    "\n",
    "# Let's watch how an untrained agent moves around\n",
    "rewards = []\n",
    "state = env.reset()\n",
    "img = plt.imshow(env.render(mode='rgb_array'))\n",
    "for j in range(1000):\n",
    "    action = agent.act(state.reshape(1, -1))\n",
    "    #action = random.choice(range(4))\n",
    "    img.set_data(env.render(mode='rgb_array')) \n",
    "    plt.axis('off')\n",
    "    display.display(plt.gcf())\n",
    "    display.clear_output(wait=True)\n",
    "    if isinstance(action, torch.Tensor):\n",
    "        action = action.numpy()[0]\n",
    "    state, reward, done, _ = env.step(action[0])\n",
    "    rewards.append(reward)\n",
    "    if done:\n",
    "        break \n",
    "print(sum(rewards))\n",
    "        \n",
    "env.close()"
   ]
  },
  {
   "cell_type": "markdown",
   "metadata": {},
   "source": [
    "## Human Control"
   ]
  },
  {
   "cell_type": "code",
   "execution_count": null,
   "metadata": {},
   "outputs": [],
   "source": [
    "# Load the gym environment\n",
    "\n",
    "import gym\n",
    "import matplotlib.pyplot as plt\n",
    "%matplotlib inline\n",
    "\n",
    "env = gym.make('LunarLander-v2')\n",
    "env.seed(23)\n",
    "\n",
    "# Let's watch how an untrained agent moves around\n",
    "\n",
    "state = env.reset()\n",
    "img = plt.imshow(env.render(mode='rgb_array'))\n",
    "last = '0'\n",
    "for j in range(200):\n",
    "#     action = agent.act(state)\n",
    "    tmp = input()\n",
    "    if len(tmp) == 0:\n",
    "        tmp = last\n",
    "    else:\n",
    "        last = tmp\n",
    "    action = int(tmp)\n",
    "    img.set_data(env.render(mode='rgb_array')) \n",
    "    plt.axis('off')\n",
    "    display.display(plt.gcf())\n",
    "    display.clear_output(wait=True)\n",
    "    state, reward, done, _ = env.step(action)\n",
    "    if done:\n",
    "        break \n",
    "        \n",
    "env.close()"
   ]
  },
  {
   "cell_type": "code",
   "execution_count": null,
   "metadata": {},
   "outputs": [],
   "source": []
  }
 ],
 "metadata": {
  "kernelspec": {
   "display_name": "Python 3 (ipykernel)",
   "language": "python",
   "name": "python3"
  },
  "language_info": {
   "codemirror_mode": {
    "name": "ipython",
    "version": 3
   },
   "file_extension": ".py",
   "mimetype": "text/x-python",
   "name": "python",
   "nbconvert_exporter": "python",
   "pygments_lexer": "ipython3",
   "version": "3.8.2"
  }
 },
 "nbformat": 4,
 "nbformat_minor": 4
}
