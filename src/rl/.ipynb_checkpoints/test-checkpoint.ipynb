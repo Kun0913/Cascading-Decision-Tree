{
 "cells": [
  {
   "cell_type": "markdown",
   "metadata": {},
   "source": [
    "# Test json"
   ]
  },
  {
   "cell_type": "code",
   "execution_count": 5,
   "metadata": {},
   "outputs": [
    {
     "data": {
      "text/plain": [
       "{'learning_rate': 0.0005,\n",
       " 'gamma': 0.98,\n",
       " 'lmbda': 0.95,\n",
       " 'eps_clip': 0.1,\n",
       " 'K_epoch': 3,\n",
       " 'Episodes': 1000}"
      ]
     },
     "execution_count": 5,
     "metadata": {},
     "output_type": "execute_result"
    }
   ],
   "source": [
    "import json\n",
    "def json_read_file(filename):\n",
    "    '''\n",
    "    @brief:\n",
    "        read data from json file\n",
    "    @params:\n",
    "        filename\n",
    "    @return:\n",
    "        (dict) parsed json file\n",
    "    '''\n",
    "    with open(filename, \"r\") as read_file:\n",
    "        return json.load(read_file)\n",
    "    \n",
    "CONF_FILE = json_read_file(\"./rl_train.json\")\n",
    "CONF_FILE[\"CartPole-v1\"]"
   ]
  },
  {
   "cell_type": "code",
   "execution_count": null,
   "metadata": {},
   "outputs": [],
   "source": [
    "def plot(rewards):\n",
    "    # clear_output(True)\n",
    "    plt.figure(figsize=(10,5))\n",
    "    plt.plot(rewards)\n",
    "    plt.savefig('ppo_discrete_lunarlandar.png')\n",
    "    # plt.show()\n",
    "    plt.clf()  \n",
    "    plt.close()"
   ]
  }
 ],
 "metadata": {
  "kernelspec": {
   "display_name": "Python 3",
   "language": "python",
   "name": "python3"
  },
  "language_info": {
   "codemirror_mode": {
    "name": "ipython",
    "version": 3
   },
   "file_extension": ".py",
   "mimetype": "text/x-python",
   "name": "python",
   "nbconvert_exporter": "python",
   "pygments_lexer": "ipython3",
   "version": "3.6.8"
  }
 },
 "nbformat": 4,
 "nbformat_minor": 2
}
