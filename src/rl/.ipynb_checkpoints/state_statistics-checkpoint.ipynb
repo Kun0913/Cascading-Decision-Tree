{
 "cells": [
  {
   "cell_type": "code",
   "execution_count": null,
   "metadata": {},
   "outputs": [],
   "source": [
    "def plot(rewards):\n",
    "    # clear_output(True)\n",
    "    plt.figure(figsize=(10,5))\n",
    "    plt.plot(rewards)\n",
    "    plt.savefig('ppo_discrete_lunarlandar.png')\n",
    "    # plt.show()\n",
    "    plt.clf()  \n",
    "    plt.close()"
   ]
  },
  {
   "cell_type": "code",
   "execution_count": 2,
   "metadata": {},
   "outputs": [],
   "source": [
    "import json\n",
    "filename = \"./rl_train.json\"\n",
    "with open(filename, \"r\") as read_file:\n",
    "        rl_confs = json.load(read_file)  # hyperparameters for rl training\n"
   ]
  },
  {
   "cell_type": "code",
   "execution_count": 11,
   "metadata": {},
   "outputs": [
    {
     "name": "stdout",
     "output_type": "stream",
     "text": [
      "state data shape:  (1450500, 4)\n",
      "state data mean: [2.49940274e-01 2.92654985e-02 9.50181107e-05 1.42541021e-04] and std: [0.15910504 0.1479451  0.01019282 0.18987567]\n"
     ]
    }
   ],
   "source": [
    "import numpy as np\n",
    "from collections import namedtuple\n",
    "\n",
    "EnvName = 'CartPole-v1' \n",
    "# EnvName = 'LunarLander-v2'\n",
    "\n",
    "data_path_prefix = rl_confs[EnvName][\"data_collect_confs\"][\"data_path\"]\n",
    "states = np.load(data_path_prefix+'greedy_state.npy')\n",
    "print('state data shape: ', states.shape)\n",
    "mean = np.mean(states, axis=0)\n",
    "std = np.std(states, axis=0)\n",
    "print('state data mean: {} and std: {}'.format(mean, std))\n",
    "state_info = {'env_name': EnvName,\n",
    "             'mean': mean,\n",
    "             'std': std}\n",
    "\n",
    "np.save(data_path_prefix+'state_info', state_info)"
   ]
  },
  {
   "cell_type": "code",
   "execution_count": null,
   "metadata": {},
   "outputs": [],
   "source": []
  }
 ],
 "metadata": {
  "kernelspec": {
   "display_name": "Python 3",
   "language": "python",
   "name": "python3"
  },
  "language_info": {
   "codemirror_mode": {
    "name": "ipython",
    "version": 3
   },
   "file_extension": ".py",
   "mimetype": "text/x-python",
   "name": "python",
   "nbconvert_exporter": "python",
   "pygments_lexer": "ipython3",
   "version": "3.6.8"
  }
 },
 "nbformat": 4,
 "nbformat_minor": 2
}
